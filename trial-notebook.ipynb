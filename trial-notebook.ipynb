{
 "cells": [
  {
   "cell_type": "code",
   "execution_count": 1,
   "id": "8e6541a0",
   "metadata": {
    "execution": {
     "iopub.execute_input": "2023-08-15T05:22:25.828760Z",
     "iopub.status.busy": "2023-08-15T05:22:25.828190Z",
     "iopub.status.idle": "2023-08-15T05:22:41.080461Z",
     "shell.execute_reply": "2023-08-15T05:22:41.078835Z"
    },
    "papermill": {
     "duration": 15.26071,
     "end_time": "2023-08-15T05:22:41.083564",
     "exception": false,
     "start_time": "2023-08-15T05:22:25.822854",
     "status": "completed"
    },
    "tags": []
   },
   "outputs": [
    {
     "name": "stdout",
     "output_type": "stream",
     "text": [
      "Collecting yfinance\r\n",
      "  Downloading yfinance-0.2.28-py2.py3-none-any.whl (65 kB)\r\n",
      "\u001b[2K     \u001b[90m━━━━━━━━━━━━━━━━━━━━━━━━━━━━━━━━━━━━━━━━\u001b[0m \u001b[32m65.3/65.3 kB\u001b[0m \u001b[31m1.8 MB/s\u001b[0m eta \u001b[36m0:00:00\u001b[0m\r\n",
      "\u001b[?25hRequirement already satisfied: pandas>=1.3.0 in /opt/conda/lib/python3.10/site-packages (from yfinance) (1.5.3)\r\n",
      "Requirement already satisfied: numpy>=1.16.5 in /opt/conda/lib/python3.10/site-packages (from yfinance) (1.23.5)\r\n",
      "Requirement already satisfied: requests>=2.31 in /opt/conda/lib/python3.10/site-packages (from yfinance) (2.31.0)\r\n",
      "Collecting multitasking>=0.0.7 (from yfinance)\r\n",
      "  Downloading multitasking-0.0.11-py3-none-any.whl (8.5 kB)\r\n",
      "Requirement already satisfied: lxml>=4.9.1 in /opt/conda/lib/python3.10/site-packages (from yfinance) (4.9.3)\r\n",
      "Requirement already satisfied: appdirs>=1.4.4 in /opt/conda/lib/python3.10/site-packages (from yfinance) (1.4.4)\r\n",
      "Requirement already satisfied: pytz>=2022.5 in /opt/conda/lib/python3.10/site-packages (from yfinance) (2023.3)\r\n",
      "Requirement already satisfied: frozendict>=2.3.4 in /opt/conda/lib/python3.10/site-packages (from yfinance) (2.3.8)\r\n",
      "Requirement already satisfied: beautifulsoup4>=4.11.1 in /opt/conda/lib/python3.10/site-packages (from yfinance) (4.12.2)\r\n",
      "Requirement already satisfied: html5lib>=1.1 in /opt/conda/lib/python3.10/site-packages (from yfinance) (1.1)\r\n",
      "Requirement already satisfied: soupsieve>1.2 in /opt/conda/lib/python3.10/site-packages (from beautifulsoup4>=4.11.1->yfinance) (2.3.2.post1)\r\n",
      "Requirement already satisfied: six>=1.9 in /opt/conda/lib/python3.10/site-packages (from html5lib>=1.1->yfinance) (1.16.0)\r\n",
      "Requirement already satisfied: webencodings in /opt/conda/lib/python3.10/site-packages (from html5lib>=1.1->yfinance) (0.5.1)\r\n",
      "Requirement already satisfied: python-dateutil>=2.8.1 in /opt/conda/lib/python3.10/site-packages (from pandas>=1.3.0->yfinance) (2.8.2)\r\n",
      "Requirement already satisfied: charset-normalizer<4,>=2 in /opt/conda/lib/python3.10/site-packages (from requests>=2.31->yfinance) (3.1.0)\r\n",
      "Requirement already satisfied: idna<4,>=2.5 in /opt/conda/lib/python3.10/site-packages (from requests>=2.31->yfinance) (3.4)\r\n",
      "Requirement already satisfied: urllib3<3,>=1.21.1 in /opt/conda/lib/python3.10/site-packages (from requests>=2.31->yfinance) (1.26.15)\r\n",
      "Requirement already satisfied: certifi>=2017.4.17 in /opt/conda/lib/python3.10/site-packages (from requests>=2.31->yfinance) (2023.5.7)\r\n",
      "Installing collected packages: multitasking, yfinance\r\n",
      "Successfully installed multitasking-0.0.11 yfinance-0.2.28\r\n"
     ]
    }
   ],
   "source": [
    "!pip install yfinance"
   ]
  },
  {
   "cell_type": "code",
   "execution_count": 2,
   "id": "bfe2381a",
   "metadata": {
    "execution": {
     "iopub.execute_input": "2023-08-15T05:22:41.093336Z",
     "iopub.status.busy": "2023-08-15T05:22:41.092962Z",
     "iopub.status.idle": "2023-08-15T05:22:41.141931Z",
     "shell.execute_reply": "2023-08-15T05:22:41.140819Z"
    },
    "papermill": {
     "duration": 0.057601,
     "end_time": "2023-08-15T05:22:41.145023",
     "exception": false,
     "start_time": "2023-08-15T05:22:41.087422",
     "status": "completed"
    },
    "tags": []
   },
   "outputs": [],
   "source": [
    "# BigQuery\n",
    "from google.cloud import bigquery\n",
    "bigquery_client = bigquery.Client(project='YOUR PROJECT ID')\n",
    "\n",
    "# Cloud Storage\n",
    "from google.cloud import storage\n",
    "storage_client = storage.Client(project='YOUR PROJECT ID')\n",
    "\n",
    "# Cloud AutoML\n",
    "from google.cloud import automl_v1beta1 as automl\n",
    "automl_client = automl.AutoMlClient()\n",
    "\n",
    "# Cloud Translation\n",
    "from google.cloud import translate_v2\n",
    "translate_client = translate_v2.Client()\n",
    "\n",
    "# Cloud Natural Language\n",
    "from google.cloud import language_v1\n",
    "client = language_v1.LanguageServiceClient()\n",
    "\n",
    "# Cloud Video Intelligence\n",
    "from google.cloud import videointelligence\n",
    "video_client = videointelligence.VideoIntelligenceServiceClient()\n",
    "\n",
    "# Cloud Vision\n",
    "from google.cloud import vision\n",
    "client = vision.ImageAnnotatorClient()"
   ]
  },
  {
   "cell_type": "code",
   "execution_count": 3,
   "id": "f9a9e1c6",
   "metadata": {
    "execution": {
     "iopub.execute_input": "2023-08-15T05:22:41.154007Z",
     "iopub.status.busy": "2023-08-15T05:22:41.153646Z",
     "iopub.status.idle": "2023-08-15T05:22:58.316494Z",
     "shell.execute_reply": "2023-08-15T05:22:58.315307Z"
    },
    "papermill": {
     "duration": 17.170453,
     "end_time": "2023-08-15T05:22:58.319283",
     "exception": false,
     "start_time": "2023-08-15T05:22:41.148830",
     "status": "completed"
    },
    "tags": []
   },
   "outputs": [
    {
     "name": "stdout",
     "output_type": "stream",
     "text": [
      "Collecting jovian\r\n",
      "  Downloading jovian-0.2.47-py2.py3-none-any.whl (68 kB)\r\n",
      "\u001b[2K     \u001b[90m━━━━━━━━━━━━━━━━━━━━━━━━━━━━━━━━━━━━━━━━\u001b[0m \u001b[32m68.6/68.6 kB\u001b[0m \u001b[31m2.4 MB/s\u001b[0m eta \u001b[36m0:00:00\u001b[0m\r\n",
      "\u001b[?25hRequirement already satisfied: requests in /opt/conda/lib/python3.10/site-packages (from jovian) (2.31.0)\r\n",
      "Collecting uuid (from jovian)\r\n",
      "  Downloading uuid-1.30.tar.gz (5.8 kB)\r\n",
      "  Preparing metadata (setup.py) ... \u001b[?25l-\b \b\\\b \bdone\r\n",
      "\u001b[?25hRequirement already satisfied: pyyaml in /opt/conda/lib/python3.10/site-packages (from jovian) (6.0)\r\n",
      "Requirement already satisfied: click in /opt/conda/lib/python3.10/site-packages (from jovian) (8.1.3)\r\n",
      "Requirement already satisfied: charset-normalizer<4,>=2 in /opt/conda/lib/python3.10/site-packages (from requests->jovian) (3.1.0)\r\n",
      "Requirement already satisfied: idna<4,>=2.5 in /opt/conda/lib/python3.10/site-packages (from requests->jovian) (3.4)\r\n",
      "Requirement already satisfied: urllib3<3,>=1.21.1 in /opt/conda/lib/python3.10/site-packages (from requests->jovian) (1.26.15)\r\n",
      "Requirement already satisfied: certifi>=2017.4.17 in /opt/conda/lib/python3.10/site-packages (from requests->jovian) (2023.5.7)\r\n",
      "Building wheels for collected packages: uuid\r\n",
      "  Building wheel for uuid (setup.py) ... \u001b[?25l-\b \b\\\b \b|\b \bdone\r\n",
      "\u001b[?25h  Created wheel for uuid: filename=uuid-1.30-py3-none-any.whl size=6501 sha256=a5750767e03664a5268d67d94260bbedaa183dbed63797911bf760e532d450cd\r\n",
      "  Stored in directory: /root/.cache/pip/wheels/ed/08/9e/f0a977dfe55051a07e21af89200125d65f1efa60cbac61ed88\r\n",
      "Successfully built uuid\r\n",
      "Installing collected packages: uuid, jovian\r\n",
      "Successfully installed jovian-0.2.47 uuid-1.30\r\n"
     ]
    }
   ],
   "source": [
    "!pip install jovian"
   ]
  },
  {
   "cell_type": "code",
   "execution_count": 4,
   "id": "42c0dbd8",
   "metadata": {
    "execution": {
     "iopub.execute_input": "2023-08-15T05:22:58.330925Z",
     "iopub.status.busy": "2023-08-15T05:22:58.330502Z",
     "iopub.status.idle": "2023-08-15T05:22:58.673033Z",
     "shell.execute_reply": "2023-08-15T05:22:58.671843Z"
    },
    "papermill": {
     "duration": 0.351752,
     "end_time": "2023-08-15T05:22:58.675918",
     "exception": false,
     "start_time": "2023-08-15T05:22:58.324166",
     "status": "completed"
    },
    "tags": []
   },
   "outputs": [
    {
     "data": {
      "application/javascript": [
       "if (window.IPython && IPython.notebook.kernel) IPython.notebook.kernel.execute('jovian.utils.jupyter.get_notebook_name_saved = lambda: \"' + IPython.notebook.notebook_name + '\"')"
      ],
      "text/plain": [
       "<IPython.core.display.Javascript object>"
      ]
     },
     "metadata": {},
     "output_type": "display_data"
    }
   ],
   "source": [
    "import jovian"
   ]
  },
  {
   "cell_type": "code",
   "execution_count": null,
   "id": "10d6dba6",
   "metadata": {
    "papermill": {
     "duration": 0.005169,
     "end_time": "2023-08-15T05:22:58.686258",
     "exception": false,
     "start_time": "2023-08-15T05:22:58.681089",
     "status": "completed"
    },
    "tags": []
   },
   "outputs": [],
   "source": []
  }
 ],
 "metadata": {
  "kernelspec": {
   "display_name": "Python 3",
   "language": "python",
   "name": "python3"
  },
  "language_info": {
   "codemirror_mode": {
    "name": "ipython",
    "version": 3
   },
   "file_extension": ".py",
   "mimetype": "text/x-python",
   "name": "python",
   "nbconvert_exporter": "python",
   "pygments_lexer": "ipython3",
   "version": "3.10.12"
  },
  "papermill": {
   "default_parameters": {},
   "duration": 45.933581,
   "end_time": "2023-08-15T05:22:59.613928",
   "environment_variables": {},
   "exception": null,
   "input_path": "__notebook__.ipynb",
   "output_path": "__notebook__.ipynb",
   "parameters": {},
   "start_time": "2023-08-15T05:22:13.680347",
   "version": "2.4.0"
  }
 },
 "nbformat": 4,
 "nbformat_minor": 5
}
